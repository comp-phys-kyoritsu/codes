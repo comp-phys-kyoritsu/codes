{
 "cells": [
  {
   "cell_type": "code",
   "execution_count": 3,
   "metadata": {
    "id": "_IRRvF8XXDlx"
   },
   "outputs": [],
   "source": [
    "import numpy as np\n",
    "import matplotlib.pyplot as plt"
   ]
  },
  {
   "cell_type": "markdown",
   "metadata": {
    "id": "RCbCQtPdL4Kn"
   },
   "source": [
    "# 線形連立方程式"
   ]
  },
  {
   "cell_type": "code",
   "execution_count": 4,
   "metadata": {
    "id": "aVVywIMWMRiJ"
   },
   "outputs": [],
   "source": [
    "A, b = np.random.rand(3000, 3000), np.random.rand(3000, 100)"
   ]
  },
  {
   "cell_type": "code",
   "execution_count": 5,
   "metadata": {
    "colab": {
     "base_uri": "https://localhost:8080/"
    },
    "id": "J6MgqPG9ictm",
    "outputId": "ff5fe608-e40a-4a41-e9c2-6dbad8453744"
   },
   "outputs": [
    {
     "name": "stdout",
     "output_type": "stream",
     "text": [
      "600 ms ± 12.4 ms per loop (mean ± std. dev. of 7 runs, 1 loop each)\n"
     ]
    }
   ],
   "source": [
    "%%timeit\n",
    "x = np.dot(np.linalg.inv(A),b)"
   ]
  },
  {
   "cell_type": "code",
   "execution_count": 6,
   "metadata": {
    "colab": {
     "base_uri": "https://localhost:8080/"
    },
    "id": "FvDByuBVQGNu",
    "outputId": "cc2828a9-c714-434e-f2f9-5345a6f1e732"
   },
   "outputs": [
    {
     "name": "stdout",
     "output_type": "stream",
     "text": [
      "201 ms ± 6.95 ms per loop (mean ± std. dev. of 7 runs, 1 loop each)\n"
     ]
    }
   ],
   "source": [
    "%%timeit\n",
    "x = np.linalg.solve(A, b)"
   ]
  },
  {
   "cell_type": "markdown",
   "metadata": {
    "id": "RJnin5r-RoUy"
   },
   "source": [
    "# 量子ハイゼンベルグ模型の対角化I"
   ]
  },
  {
   "cell_type": "code",
   "execution_count": 7,
   "metadata": {
    "id": "Ey5Qz3_LRtFG"
   },
   "outputs": [],
   "source": [
    "A = np.array([[1,0,0,0], [0,-1,2,0], [0,2,-1,0], [0,0,0,1]])/4\n",
    "eig, vec = np.linalg.eigh(A)"
   ]
  },
  {
   "cell_type": "markdown",
   "metadata": {
    "id": "2lV56axOVDDw"
   },
   "source": [
    "# 量子ハイゼンベルグ模型の対角化II"
   ]
  },
  {
   "cell_type": "code",
   "execution_count": 8,
   "metadata": {
    "id": "WeU_V_xsVGNq"
   },
   "outputs": [],
   "source": [
    "def HMatrix(ns, bl):\n",
    "    dim = 2**ns\n",
    "    H = np.zeros([dim, dim])\n",
    "    ind = np.arange(dim) # スピン状態を表す配列\n",
    "    for bond in bl:      # それぞれのbondに対して計算する\n",
    "        bs = ind & bond\n",
    "        ind1 = (bs != 0) & (bs != bond)\n",
    "        # 各状態に対しボンド上の2スピンが異符号ならTrueとなる配列\n",
    "        H[ind,ind] += 1 - 2*ind1  # 対角要素に +1 or -1\n",
    "        ind2 = ind[ind1]\n",
    "        # ボンド上の2スピンが異符号の状態を抜き出した配列\n",
    "        H[ind2^bond, ind2] += 2  # 非対角要素\n",
    "    return H/4"
   ]
  },
  {
   "cell_type": "code",
   "execution_count": 9,
   "metadata": {
    "colab": {
     "base_uri": "https://localhost:8080/"
    },
    "id": "5om7JJSSVMsu",
    "outputId": "1468c768-fa9d-46af-a3d2-b51a3674d2a8"
   },
   "outputs": [
    {
     "name": "stdout",
     "output_type": "stream",
     "text": [
      "[-0.75 -0.75 -0.75 -0.75  0.75  0.75  0.75  0.75]\n"
     ]
    }
   ],
   "source": [
    "H = HMatrix(3, [0b011, 0b110, 0b101]) # リストは[3,6,5]でも同じ\n",
    "eig, vec = np.linalg.eigh(H)\n",
    "print(eig)"
   ]
  },
  {
   "cell_type": "code",
   "execution_count": 10,
   "metadata": {
    "id": "ksj9Pj2zVPc0"
   },
   "outputs": [],
   "source": [
    "N = 5\n",
    "bl = [3<<i for i in range(N-1)] + [2**(N-1)+1]\n",
    "  # << はビットシフト演算子. 周期的にならないので, 補正を加えている"
   ]
  },
  {
   "cell_type": "markdown",
   "metadata": {
    "id": "asPjBzt0msN5"
   },
   "source": [
    "# 量子ハイゼンベルグ模型の対角化III"
   ]
  },
  {
   "cell_type": "code",
   "execution_count": 11,
   "metadata": {
    "id": "vGVSBlGLmu7E"
   },
   "outputs": [],
   "source": [
    "from scipy.sparse import csr_matrix, linalg\n",
    "H_csr = csr_matrix(H)\n",
    "eig, vec = linalg.eigsh(H_csr, 3, which='SA')\n",
    "  # whichは計算する固有値の指定. SAは値が小さいものから計算\n",
    "  # LAは値の大きいもの, SM,LMはそれぞれ絶対値の小さい,大きいもの\n",
    "  # から順に計算してk(=3)個出力する "
   ]
  },
  {
   "cell_type": "code",
   "execution_count": 12,
   "metadata": {
    "id": "JikJ32xZm2rg"
   },
   "outputs": [],
   "source": [
    "def multiplyH(v, bl):\n",
    "    bl = np.array(bl)\n",
    "    vind = np.nonzero(v != 0)[0] # vの非零要素のindexを所得\n",
    "    vn = np.zeros_like(v)        # vと同じ形状で値が0の行列\n",
    "    for bond in bl:\n",
    "        bs = vind & bond\n",
    "        ind1 = (bs != 0) & (bs != bond)\n",
    "        vn[vind] += v[vind] * (1-2*ind1)   # 対角項\n",
    "        ind2 = vind[ind1]\n",
    "        vn[ind2 ^ bond] += v[ind2] * 2     # 非対角項\n",
    "    return vn/4"
   ]
  },
  {
   "cell_type": "code",
   "execution_count": 13,
   "metadata": {
    "id": "sy3wSvGcm5O6"
   },
   "outputs": [],
   "source": [
    "N = 20\n",
    "H = lambda v : multiplyH(v, bl)\n",
    "op = linalg.LinearOperator(shape=(2**N, 2**N), matvec=H)\n",
    " # shapeで行列の次元を指定. matvacは行列ベクトル積Axの作用を指定\n",
    " # 問題によってはA^Hxや行列行列積ARなどが必要となり, それぞれ\n",
    " # rmatvecとmatmatで指定する\n",
    "eig, vec = linalg.eigsh(op, k=3, which='SA')"
   ]
  },
  {
   "cell_type": "markdown",
   "metadata": {
    "id": "1UBTc-nNzvAh"
   },
   "source": [
    "# 発展問題(線形連立方程式)"
   ]
  },
  {
   "cell_type": "code",
   "execution_count": 14,
   "metadata": {
    "id": "vLe6LS2Fdiwc"
   },
   "outputs": [],
   "source": [
    "def user_lu(A):\n",
    "    L, U = np.eye(len(A)), np.zeros_like(A)\n",
    "    for j in range(len(A)):\n",
    "        for i in range(j+1):\n",
    "            U[i,j] = A[i,j]-L[i,:j]@U[:j,j]\n",
    "        L[j+1:,j] = (A[j+1:,j]-L[j+1:,:j]@U[:j,j])/U[j,j]\n",
    "    return L, U"
   ]
  },
  {
   "cell_type": "markdown",
   "metadata": {
    "id": "mWHMdunQfXY8"
   },
   "source": []
  },
  {
   "cell_type": "code",
   "execution_count": 15,
   "metadata": {
    "colab": {
     "base_uri": "https://localhost:8080/"
    },
    "id": "w92EhPLkzwZM",
    "outputId": "e78be7e1-e14e-4c45-ca97-50c5ba221c7e"
   },
   "outputs": [
    {
     "name": "stdout",
     "output_type": "stream",
     "text": [
      "3.4547528578226966e-11\n"
     ]
    }
   ],
   "source": [
    "A = np.random.rand(300,300)\n",
    "L, U = user_lu(A)\n",
    "print(np.linalg.norm(A-L@U))"
   ]
  },
  {
   "cell_type": "code",
   "execution_count": 16,
   "metadata": {
    "colab": {
     "base_uri": "https://localhost:8080/"
    },
    "id": "70Cirpv6cOhL",
    "outputId": "8774ed74-cc0d-42fc-de8d-2dc5875c4958"
   },
   "outputs": [
    {
     "name": "stdout",
     "output_type": "stream",
     "text": [
      "1.2717834482220401e-13\n"
     ]
    }
   ],
   "source": [
    "import scipy.linalg\n",
    "P, L, U = scipy.linalg.lu(A)\n",
    "print(np.linalg.norm(A-P@L@U))"
   ]
  },
  {
   "cell_type": "code",
   "execution_count": 17,
   "metadata": {
    "colab": {
     "base_uri": "https://localhost:8080/"
    },
    "id": "Eybsa_RRfX9_",
    "outputId": "51cd554f-8039-47eb-ebbb-d986d772b1bb"
   },
   "outputs": [
    {
     "name": "stdout",
     "output_type": "stream",
     "text": [
      "0.11499691009521484\n",
      "0.0022089481353759766\n"
     ]
    }
   ],
   "source": [
    "# テキストには含まれない\n",
    "from time import time\n",
    "time_s = time()\n",
    "L, U = user_lu(A)\n",
    "print(time()-time_s)\n",
    "time_s = time()\n",
    "P, L, U = scipy.linalg.lu(A)\n",
    "print(time()-time_s)"
   ]
  },
  {
   "cell_type": "markdown",
   "metadata": {
    "id": "8ZQ3x_Xvl6DQ"
   },
   "source": [
    "# 発展問題(量子ハイゼンベルグ模型の対角化III)"
   ]
  },
  {
   "cell_type": "code",
   "execution_count": 18,
   "metadata": {
    "id": "Ad4r9WLJoChv"
   },
   "outputs": [],
   "source": [
    "from scipy.sparse import csr_matrix, coo_matrix, linalg\n",
    "def HMatrix_data(ns, bl, ind):\n",
    "    data = np.empty(0)\n",
    "    row, col = np.empty(0,dtype=int), np.empty(0,dtype=int)\n",
    "    for bond in bl:\n",
    "        bs = ind & bond\n",
    "        ind1 = (bs != 0) & (bs != bond)\n",
    "        ind2 = ind[ind1]\n",
    "        unit = np.ones(len(ind2))\n",
    "        data = np.append(data, np.append(1-2*ind1, 2*unit))\n",
    "        row = np.append(row, np.append(ind, ind2^bond))\n",
    "        col = np.append(col, np.append(ind, ind2))\n",
    "    return data/4, row, col"
   ]
  },
  {
   "cell_type": "code",
   "execution_count": 19,
   "metadata": {
    "colab": {
     "base_uri": "https://localhost:8080/"
    },
    "id": "rXrybYCToFen",
    "outputId": "47d0e38a-a35a-40ee-925f-61ef191f1083"
   },
   "outputs": [
    {
     "name": "stdout",
     "output_type": "stream",
     "text": [
      "7 [-6.53366757 -6.53366757]\n"
     ]
    }
   ],
   "source": [
    "N = 15\n",
    "bl = [3<<i for i in range(N-1)] + [2**(N-1)+1]\n",
    "nsz = [bin(i).count(\"1\") for i in np.arange(2**N)]\n",
    "map_ind = np.zeros(2**N, dtype=int)\n",
    "for n in np.arange(N+1):\n",
    "    if n != N//2: continue\n",
    "    ind = np.where(nsz==n)[0]\n",
    "    map_ind[ind] = np.arange(len(ind))\n",
    "    data, row, col = HMatrix_data(N, bl, ind)\n",
    "    row, col = map_ind[row], map_ind[col]\n",
    "    A_coo=coo_matrix((data,(row,col)), (len(ind),len(ind)))\n",
    "    A_csr=csr_matrix(A_coo)\n",
    "    if n==0 or n==N: eig = [A_csr[0,0]]\n",
    "    else: eig, vec = linalg.eigsh(A_csr, k=2, which='SA')\n",
    "    print(n, eig)"
   ]
  },
  {
   "cell_type": "code",
   "execution_count": 20,
   "metadata": {
    "colab": {
     "base_uri": "https://localhost:8080/",
     "height": 283
    },
    "id": "0CdIv6fvW8Zu",
    "outputId": "2f51ddf3-6248-43fe-c750-18363c0f2ef8"
   },
   "outputs": [],
   "source": [
    "# プロットと図の保存用(テキスト中には含まれない)\n",
    "x, ans = [], []\n",
    "for N in np.arange(1, 23):\n",
    "    bl = [3<<i for i in range(N-1)] + [2**(N-1)+1]\n",
    "    nsz = [bin(i).count(\"1\") for i in np.arange(2**N)]\n",
    "    map = np.zeros(2**N, dtype=int)\n",
    "    for n in np.arange(N+1):\n",
    "        if n!=N//2: continue\n",
    "        ind = np.where(nsz==n)[0]\n",
    "        map[ind] = np.arange(len(ind))\n",
    "\n",
    "        data, row, col = HMatrix_data(N, bl, ind)\n",
    "        row, col = map[row], map[col]\n",
    "        A_coo = coo_matrix((data, (row, col)), shape=(len(ind), len(ind)))\n",
    "        A_csr = csr_matrix(A_coo)\n",
    "        if n==0 or n==N: eig = [A_csr[0,0]]\n",
    "        else             : eig, vec = linalg.eigsh(A_csr, k=1, which='SA')\n",
    "        x.append(N)\n",
    "        ans.append(eig[0]/N)"
   ]
  },
  {
   "cell_type": "code",
   "execution_count": 21,
   "metadata": {},
   "outputs": [
    {
     "data": {
      "image/png": "[encoded data removed]",
      "text/plain": [
       "<Figure size 432x288 with 1 Axes>"
      ]
     },
     "metadata": {
      "needs_background": "light"
     },
     "output_type": "display_data"
    }
   ],
   "source": [
    "plt.plot(x, np.array(ans), label='numerical')\n",
    "plt.plot(x, -np.log(2)*np.ones(len(x))+0.25, label='-log(2)+1/4')\n",
    "plt.xlabel(\"N\", fontsize=14)\n",
    "plt.xticks(range(23))\n",
    "plt.xlim(1, 22)\n",
    "plt.ylabel(\"E/N\", fontsize=14)\n",
    "plt.legend(fontsize=14)\n",
    "plt.grid(color='black', linestyle='dotted', linewidth=0.3)\n",
    "plt.show()"
   ]
  },
  {
   "cell_type": "code",
   "execution_count": null,
   "metadata": {},
   "outputs": [],
   "source": []
  }
 ],
 "metadata": {
  "colab": {
   "provenance": [],
   "toc_visible": true
  },
  "kernelspec": {
   "display_name": "Python 3",
   "language": "python",
   "name": "python3"
  },
  "language_info": {
   "codemirror_mode": {
    "name": "ipython",
    "version": 3
   },
   "file_extension": ".py",
   "mimetype": "text/x-python",
   "name": "python",
   "nbconvert_exporter": "python",
   "pygments_lexer": "ipython3",
   "version": "3.8.5"
  }
 },
 "nbformat": 4,
 "nbformat_minor": 1
}
